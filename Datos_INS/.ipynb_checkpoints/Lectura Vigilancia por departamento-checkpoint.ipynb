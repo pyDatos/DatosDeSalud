{
 "cells": [
  {
   "cell_type": "code",
   "execution_count": 1,
   "metadata": {
    "collapsed": false
   },
   "outputs": [],
   "source": [
    "%matplotlib nbagg\n",
    "\n",
    "import warnings\n",
    "warnings.filterwarnings(\"ignore\")\n",
    "\n",
    "from openpyxl import load_workbook \n",
    "\n",
    "import os\n",
    "import matplotlib.pyplot as plt\n",
    "import numpy as np\n",
    "\n",
    "Archivos=sorted(os.listdir('Vigilancia_Depart'))\n",
    "Leer=lambda archivo:load_workbook(filename = 'Vigilancia_Depart/'+archivo,read_only=True)\n",
    "\n",
    "#Lista con los libros xlsx leidos:\n",
    "Libros=map(Leer,Archivos[:5])\n",
    "\n",
    "Value= lambda openpycell: openpycell.value\n",
    "Gentoval=lambda openpycell: map(Value,openpycell)\n",
    "\n",
    "#Matriz representativa de los xlsx [2009,2013]\n",
    "MxLibros= [np.array(map(Gentoval,Libros[i]['Vigilancia Dep']['A0:BD1318'])) for i in range(len(Libros))]"
   ]
  },
  {
   "cell_type": "code",
   "execution_count": 2,
   "metadata": {
    "collapsed": false
   },
   "outputs": [
    {
     "data": {
      "text/plain": [
       "u'BOGOTA'"
      ]
     },
     "execution_count": 2,
     "metadata": {},
     "output_type": "execute_result"
    }
   ],
   "source": [
    "MxLibros[0][144,1]#Fila 144 columba B 2009"
   ]
  },
  {
   "cell_type": "code",
   "execution_count": null,
   "metadata": {
    "collapsed": true
   },
   "outputs": [],
   "source": []
  }
 ],
 "metadata": {
  "kernelspec": {
   "display_name": "Python 2",
   "language": "python",
   "name": "python2"
  },
  "language_info": {
   "codemirror_mode": {
    "name": "ipython",
    "version": 2
   },
   "file_extension": ".py",
   "mimetype": "text/x-python",
   "name": "python",
   "nbconvert_exporter": "python",
   "pygments_lexer": "ipython2",
   "version": "2.7.9"
  }
 },
 "nbformat": 4,
 "nbformat_minor": 0
}
