{
 "cells": [
  {
   "cell_type": "code",
   "execution_count": 1,
   "metadata": {
    "collapsed": true
   },
   "outputs": [],
   "source": [
    "%matplotlib nbagg\n",
    "\n",
    "import warnings\n",
    "warnings.filterwarnings(\"ignore\")\n",
    "\n",
    "from openpyxl import load_workbook \n",
    "\n",
    "import os\n",
    "import matplotlib.pyplot as plt\n",
    "import numpy as np\n",
    "\n",
    "Archivos=sorted(os.listdir('Vigilancia_Depart'))\n",
    "Leer=lambda archivo:load_workbook(filename = 'Vigilancia_Depart/'+archivo,read_only=True)\n",
    "\n",
    "#Lista con los libros xlsx leidos:\n",
    "Libros=map(Leer,Archivos)\n",
    "\n",
    "#Función que convierte un libro en un array de numpy (primero convierte el generador en una lista):\n",
    "Matriz=lambda x: np.array(list(x['Vigilancia Dep']['A0:BD1318']))\n",
    "\n",
    "\n",
    "\"\"\"\n",
    " Observación de tipos y contenidos: \n",
    " \n",
    " type(Libros)                 = list                                 = Lista con todos los libros en Vigilancia_Rutinaria\n",
    " type(Libros[0])              = openpyxl.workbook.workbook.Workbook  = Objeto de openpyxl que representa a un xlsx \n",
    " type(MLibros)                = list                                 = Todos los xlsx cada uno como array de numpy\n",
    " type(MLibros[0])             = numpy.ndarray                        = La hoja \"Vigilancia envento Dep\" del 2009\n",
    " type(MLibros[0][0])          = numpy.ndarray                        = Fila 0 del libro 0, equivalente a: MLibros[0][0,:]\n",
    " type(MLibros[0][0,0])        = openpyxl.cell.read_only.ReadOnlyCell = Objeto de openpyxl en la fila 0 columna 0\n",
    " type(MLibros[0][33,3].value) = unicode                              = Valor obtenido de la celda D33 del libro 0\n",
    "\"\"\"\n",
    "\n",
    "#Lista con las matrices de los libros [2009,2013]:\n",
    "MLibros=map(Matriz,Libros[:5])"
   ]
  },
  {
   "cell_type": "code",
   "execution_count": null,
   "metadata": {
    "collapsed": true
   },
   "outputs": [],
   "source": []
  }
 ],
 "metadata": {
  "kernelspec": {
   "display_name": "Python 2",
   "language": "python",
   "name": "python2"
  },
  "language_info": {
   "codemirror_mode": {
    "name": "ipython",
    "version": 2
   },
   "file_extension": ".py",
   "mimetype": "text/x-python",
   "name": "python",
   "nbconvert_exporter": "python",
   "pygments_lexer": "ipython2",
   "version": "2.7.9"
  }
 },
 "nbformat": 4,
 "nbformat_minor": 0
}
