{
 "cells": [
  {
   "cell_type": "code",
   "execution_count": 1,
   "metadata": {
    "collapsed": false
   },
   "outputs": [
    {
     "name": "stdout",
     "output_type": "stream",
     "text": [
      "['Vigilancia rutinaria por eventos Departamental 2010.xlsx', 'Vigilancia rutinaria por eventos Departamental 2013.xlsx', 'Vigilancia rutinaria por eventos Departamental 2014.xlsx', 'Vigilancia rutinaria por eventos Departamental 2012.xlsx', 'Vigilancia rutinaria por eventos Departamental 2009.xlsx', 'Vigilancia rutinaria por eventos Departamental 2011.xlsx']\n"
     ]
    },
    {
     "data": {
      "text/plain": [
       "list"
      ]
     },
     "execution_count": 1,
     "metadata": {},
     "output_type": "execute_result"
    }
   ],
   "source": [
    "%matplotlib nbagg\n",
    "\n",
    "from openpyxl import load_workbook \n",
    "import matplotlib.pyplot as plt\n",
    "import os\n",
    "\n",
    "A=os.listdir(\".\")\n",
    "\n",
    "\n",
    "\n",
    "#A=commands.getoutput('dir *.xlsx').replace('\\\\',' ').split('\\n')\n",
    "print A[:6]\n",
    "type(A)"
   ]
  },
  {
   "cell_type": "code",
   "execution_count": 2,
   "metadata": {
    "collapsed": false
   },
   "outputs": [
    {
     "name": "stderr",
     "output_type": "stream",
     "text": [
      "/usr/local/lib/python2.7/dist-packages/openpyxl/workbook/names/named_range.py:121: UserWarning: Discarded range with reserved name\n",
      "  warnings.warn(\"Discarded range with reserved name\")\n"
     ]
    }
   ],
   "source": [
    "cargar=lambda archivo:load_workbook(filename = archivo,read_only=True)\n",
    "listalibros=map(cargar,A[:6])"
   ]
  },
  {
   "cell_type": "code",
   "execution_count": 3,
   "metadata": {
    "collapsed": false
   },
   "outputs": [
    {
     "data": {
      "text/plain": [
       "[<openpyxl.workbook.workbook.Workbook at 0x7f296c2e98d0>,\n",
       " <openpyxl.workbook.workbook.Workbook at 0x7f296c2b5e90>,\n",
       " <openpyxl.workbook.workbook.Workbook at 0x7f296c276050>,\n",
       " <openpyxl.workbook.workbook.Workbook at 0x7f296c2b5cd0>,\n",
       " <openpyxl.workbook.workbook.Workbook at 0x7f296c241a10>,\n",
       " <openpyxl.workbook.workbook.Workbook at 0x7f296c2e9810>]"
      ]
     },
     "execution_count": 3,
     "metadata": {},
     "output_type": "execute_result"
    }
   ],
   "source": [
    "listalibros"
   ]
  },
  {
   "cell_type": "code",
   "execution_count": 4,
   "metadata": {
    "collapsed": false
   },
   "outputs": [
    {
     "data": {
      "application/json": {
       "Software versions": [
        {
         "module": "Python",
         "version": "2.7.9 64bit [GCC 4.9.2]"
        },
        {
         "module": "IPython",
         "version": "3.2.0"
        },
        {
         "module": "OS",
         "version": "Linux 3.16.0 4 amd64 x86_64 with debian 8.1"
        },
        {
         "module": "openpyxl",
         "version": "2.2.5"
        },
        {
         "module": "Os",
         "version": "Os"
        },
        {
         "module": "matplotlib",
         "version": "1.4.3"
        }
       ]
      },
      "text/html": [
       "<table><tr><th>Software</th><th>Version</th></tr><tr><td>Python</td><td>2.7.9 64bit [GCC 4.9.2]</td></tr><tr><td>IPython</td><td>3.2.0</td></tr><tr><td>OS</td><td>Linux 3.16.0 4 amd64 x86_64 with debian 8.1</td></tr><tr><td>openpyxl</td><td>2.2.5</td></tr><tr><td>Os</td><td>Os</td></tr><tr><td>matplotlib</td><td>1.4.3</td></tr><tr><td colspan='2'>Wed Jul 15 19:20:29 2015 COT</td></tr></table>"
      ],
      "text/latex": [
       "\\begin{tabular}{|l|l|}\\hline\n",
       "{\\bf Software} & {\\bf Version} \\\\ \\hline\\hline\n",
       "Python & 2.7.9 64bit [GCC 4.9.2] \\\\ \\hline\n",
       "IPython & 3.2.0 \\\\ \\hline\n",
       "OS & Linux 3.16.0 4 amd64 x86\\_64 with debian 8.1 \\\\ \\hline\n",
       "openpyxl & 2.2.5 \\\\ \\hline\n",
       "Os & Os \\\\ \\hline\n",
       "matplotlib & 1.4.3 \\\\ \\hline\n",
       "\\hline \\multicolumn{2}{|l|}{Wed Jul 15 19:20:29 2015 COT} \\\\ \\hline\n",
       "\\end{tabular}\n"
      ],
      "text/plain": [
       "Software versions\n",
       "Python 2.7.9 64bit [GCC 4.9.2]\n",
       "IPython 3.2.0\n",
       "OS Linux 3.16.0 4 amd64 x86_64 with debian 8.1\n",
       "openpyxl 2.2.5\n",
       "Os Os\n",
       "matplotlib 1.4.3\n",
       "Wed Jul 15 19:20:29 2015 COT"
      ]
     },
     "execution_count": 4,
     "metadata": {},
     "output_type": "execute_result"
    }
   ],
   "source": [
    "%reload_ext version_information\n",
    "%version_information openpyxl, Os, matplotlib"
   ]
  },
  {
   "cell_type": "code",
   "execution_count": null,
   "metadata": {
    "collapsed": true
   },
   "outputs": [],
   "source": []
  }
 ],
 "metadata": {
  "kernelspec": {
   "display_name": "Python 2",
   "language": "python",
   "name": "python2"
  },
  "language_info": {
   "codemirror_mode": {
    "name": "ipython",
    "version": 2
   },
   "file_extension": ".py",
   "mimetype": "text/x-python",
   "name": "python",
   "nbconvert_exporter": "python",
   "pygments_lexer": "ipython2",
   "version": "2.7.9"
  }
 },
 "nbformat": 4,
 "nbformat_minor": 0
}
