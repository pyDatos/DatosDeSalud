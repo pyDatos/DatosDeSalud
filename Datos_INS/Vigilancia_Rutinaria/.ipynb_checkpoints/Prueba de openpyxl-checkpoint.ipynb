{
 "cells": [
  {
   "cell_type": "code",
   "execution_count": null,
   "metadata": {
    "collapsed": true
   },
   "outputs": [],
   "source": [
    "#Tomado de https://openpyxl.readthedocs.org/en/latest/usage.html#read-an-existing-workbook\n",
    "from openpyxl import load_workbook\n",
    "#Se abre el archivo:\n",
    "libro = load_workbook(filename = 'Vigilancia rutinaria por eventos Departamental 2012.xlsx')\n",
    "#Hoja de cálculo dentro del libro:\n",
    "hoja_cal = libro['Vigilancia envento Dep']\n",
    "#Acá debería imprimir \"BOGOTA\"\n",
    "print(hoja_cal['D33'].value)"
   ]
  },
  {
   "cell_type": "code",
   "execution_count": 3,
   "metadata": {
    "collapsed": false
   },
   "outputs": [],
   "source": [
    "#Tomado de https://openpyxl.readthedocs.org/en/latest/optimized.html\n",
    "from openpyxl import load_workbook\n",
    "#Se abre el archivo para sólo lectura:\n",
    "libro = load_workbook(filename='Vigilancia rutinaria por eventos Departamental 2012.xlsx', read_only=True)\n",
    "#Hoja de cálculo:\n",
    "ws = libro['Vigilancia envento Dep'] # ws is now an IterableWorksheet\n",
    "\n",
    "#Ciclo para imprimir cada valor dentro de celda (recorrido por filas)\n",
    "#for row in ws.rows:\n",
    "    #for cell in row:\n",
    "        #print(cell.value)\n"
   ]
  },
  {
   "cell_type": "code",
   "execution_count": null,
   "metadata": {
    "collapsed": true
   },
   "outputs": [],
   "source": []
  }
 ],
 "metadata": {
  "kernelspec": {
   "display_name": "Python 2",
   "language": "python",
   "name": "python2"
  },
  "language_info": {
   "codemirror_mode": {
    "name": "ipython",
    "version": 2
   },
   "file_extension": ".py",
   "mimetype": "text/x-python",
   "name": "python",
   "nbconvert_exporter": "python",
   "pygments_lexer": "ipython2",
   "version": "2.7.9"
  }
 },
 "nbformat": 4,
 "nbformat_minor": 0
}
