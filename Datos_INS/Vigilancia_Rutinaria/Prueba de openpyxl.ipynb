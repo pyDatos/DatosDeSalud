{
 "cells": [
  {
   "cell_type": "code",
   "execution_count": 3,
   "metadata": {
    "collapsed": false
   },
   "outputs": [
    {
     "name": "stdout",
     "output_type": "stream",
     "text": [
      "BOGOTA\n"
     ]
    }
   ],
   "source": [
    "#Tomado de https://openpyxl.readthedocs.org/en/latest/usage.html#read-an-existing-workbook\n",
    "from openpyxl import load_workbook\n",
    "#Se abre el archivo:\n",
    "libro = load_workbook(filename = 'Vigilancia rutinaria por eventos Departamental 2012.xlsx')\n",
    "#Hoja de cálculo dentro del libro:\n",
    "hoja_cal = libro['Vigilancia envento Dep']\n",
    "#Acá debería imprimir \"BOGOTA\"\n",
    "print(hoja_cal['D33'].value)"
   ]
  },
  {
   "cell_type": "code",
   "execution_count": null,
   "metadata": {
    "collapsed": true
   },
   "outputs": [],
   "source": []
  }
 ],
 "metadata": {
  "kernelspec": {
   "display_name": "Python 2",
   "language": "python",
   "name": "python2"
  },
  "language_info": {
   "codemirror_mode": {
    "name": "ipython",
    "version": 2
   },
   "file_extension": ".py",
   "mimetype": "text/x-python",
   "name": "python",
   "nbconvert_exporter": "python",
   "pygments_lexer": "ipython2",
   "version": "2.7.9"
  }
 },
 "nbformat": 4,
 "nbformat_minor": 0
}
