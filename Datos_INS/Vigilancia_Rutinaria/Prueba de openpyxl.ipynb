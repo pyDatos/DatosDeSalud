{
 "cells": [
  {
   "cell_type": "markdown",
   "metadata": {},
   "source": [
    "Tomado de : [Openpyxl](https://openpyxl.readthedocs.org/en/latest/usage.html#read-an-existing-workbook)"
   ]
  },
  {
   "cell_type": "code",
   "execution_count": 1,
   "metadata": {
    "collapsed": false
   },
   "outputs": [
    {
     "name": "stdout",
     "output_type": "stream",
     "text": [
      "BOGOTA\n"
     ]
    },
    {
     "name": "stderr",
     "output_type": "stream",
     "text": [
      "/usr/local/lib/python2.7/dist-packages/openpyxl/workbook/names/named_range.py:121: UserWarning: Discarded range with reserved name\n",
      "  warnings.warn(\"Discarded range with reserved name\")\n"
     ]
    }
   ],
   "source": [
    "from openpyxl import load_workbook \n",
    "\n",
    "#Se abre el archivo:\n",
    "libro = load_workbook(filename = 'Vigilancia rutinaria por eventos Departamental 2012.xlsx',read_only=True)\n",
    "\n",
    "#Hoja de cálculo dentro del libro:\n",
    "hoja_cal = libro['Vigilancia envento Dep']\n",
    "\n",
    "#Acá debería imprimir \"BOGOTA\"\n",
    "print(hoja_cal['D33'].value)"
   ]
  },
  {
   "cell_type": "code",
   "execution_count": 2,
   "metadata": {
    "collapsed": false
   },
   "outputs": [],
   "source": [
    "#Guardar datos correspondientes a Bogotá (Accidente ofidico) E33 -> BD33\n",
    "#hoja_cal.calculate_dimension\n",
    "\n",
    "#for row in hoja_cal.rows:\n",
    "    #for cell in row:\n",
    "        #print(cell.value)"
   ]
  },
  {
   "cell_type": "code",
   "execution_count": 18,
   "metadata": {
    "collapsed": false
   },
   "outputs": [
    {
     "data": {
      "application/json": {
       "Software versions": [
        {
         "module": "Python",
         "version": "2.7.9 64bit [MSC v.1500 64 bit (AMD64)]"
        },
        {
         "module": "IPython",
         "version": "3.2.0"
        },
        {
         "module": "OS",
         "version": "Windows 7 6.1.7601 SP1"
        },
        {
         "module": "openpyxl",
         "version": "2.2.5"
        }
       ]
      },
      "text/html": [
       "<table><tr><th>Software</th><th>Version</th></tr><tr><td>Python</td><td>2.7.9 64bit [MSC v.1500 64 bit (AMD64)]</td></tr><tr><td>IPython</td><td>3.2.0</td></tr><tr><td>OS</td><td>Windows 7 6.1.7601 SP1</td></tr><tr><td>openpyxl</td><td>2.2.5</td></tr><tr><td colspan='2'>Wed Jul 15 18:07:08 2015 Hora est. Pacífico, Sudamérica</td></tr></table>"
      ],
      "text/latex": [
       "\\begin{tabular}{|l|l|}\\hline\n",
       "{\\bf Software} & {\\bf Version} \\\\ \\hline\\hline\n",
       "Python & 2.7.9 64bit [MSC v.1500 64 bit (AMD64)] \\\\ \\hline\n",
       "IPython & 3.2.0 \\\\ \\hline\n",
       "OS & Windows 7 6.1.7601 SP1 \\\\ \\hline\n",
       "openpyxl & 2.2.5 \\\\ \\hline\n",
       "\\hline \\multicolumn{2}{|l|}{Wed Jul 15 18:07:08 2015 Hora est. Pacífico, Sudamérica} \\\\ \\hline\n",
       "\\end{tabular}\n"
      ],
      "text/plain": [
       "Software versions\n",
       "Python 2.7.9 64bit [MSC v.1500 64 bit (AMD64)]\n",
       "IPython 3.2.0\n",
       "OS Windows 7 6.1.7601 SP1\n",
       "openpyxl 2.2.5\n",
       "Wed Jul 15 18:07:08 2015 Hora est. Pacífico, Sudamérica"
      ]
     },
     "execution_count": 18,
     "metadata": {},
     "output_type": "execute_result"
    }
   ],
   "source": [
    "%reload_ext version_information\n",
    "%version_information openpyxl"
   ]
  },
  {
   "cell_type": "code",
   "execution_count": 17,
   "metadata": {
    "collapsed": false
   },
   "outputs": [
    {
     "name": "stdout",
     "output_type": "stream",
     "text": [
      "BOGOTA\n",
      "1\n",
      "0\n",
      "0\n",
      "0\n",
      "0\n",
      "0\n",
      "0\n",
      "0\n",
      "0\n",
      "0\n",
      "0\n",
      "0\n",
      "0\n",
      "0\n",
      "0\n",
      "0\n",
      "0\n",
      "0\n",
      "0\n",
      "0\n",
      "0\n",
      "0\n",
      "0\n",
      "0\n",
      "0\n",
      "0\n",
      "0\n",
      "0\n",
      "0\n",
      "0\n",
      "0\n",
      "0\n",
      "0\n",
      "0\n",
      "0\n",
      "0\n",
      "0\n",
      "0\n",
      "0\n",
      "0\n",
      "0\n",
      "0\n",
      "0\n",
      "1\n",
      "0\n",
      "0\n",
      "1\n",
      "0\n",
      "0\n",
      "0\n",
      "0\n",
      "0\n",
      "3\n"
     ]
    }
   ],
   "source": [
    "from openpyxl import load_workbook \n",
    "\n",
    "#Se abre el archivo:\n",
    "libro = load_workbook(filename = 'Vigilancia rutinaria por eventos Departamental 2012.xlsx',read_only=True)\n",
    "\n",
    "#Hoja de cálculo dentro del libro:\n",
    "hoja_cal = libro['Vigilancia envento Dep']\n",
    "\n",
    "for row in hoja_cal['D33:BE33']:\n",
    "          for cell in row:\n",
    "            print (cell.value) "
   ]
  },
  {
   "cell_type": "code",
   "execution_count": null,
   "metadata": {
    "collapsed": true
   },
   "outputs": [],
   "source": []
  }
 ],
 "metadata": {
  "kernelspec": {
   "display_name": "Python 2",
   "language": "python",
   "name": "python2"
  },
  "language_info": {
   "codemirror_mode": {
    "name": "ipython",
    "version": 2
   },
   "file_extension": ".py",
   "mimetype": "text/x-python",
   "name": "python",
   "nbconvert_exporter": "python",
   "pygments_lexer": "ipython2",
   "version": "2.7.9"
  }
 },
 "nbformat": 4,
 "nbformat_minor": 0
}
